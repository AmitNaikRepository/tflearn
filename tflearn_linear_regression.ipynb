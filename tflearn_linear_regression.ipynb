{
  "nbformat": 4,
  "nbformat_minor": 0,
  "metadata": {
    "colab": {
      "name": "tflearn_linear_regression.ipynb",
      "provenance": [],
      "collapsed_sections": [],
      "include_colab_link": true
    },
    "kernelspec": {
      "name": "python3",
      "display_name": "Python 3"
    }
  },
  "cells": [
    {
      "cell_type": "markdown",
      "metadata": {
        "id": "view-in-github",
        "colab_type": "text"
      },
      "source": [
        "<a href=\"https://colab.research.google.com/github/AmitNaikRepository/tflearn/blob/master/tflearn_linear_regression.ipynb\" target=\"_parent\"><img src=\"https://colab.research.google.com/assets/colab-badge.svg\" alt=\"Open In Colab\"/></a>"
      ]
    },
    {
      "cell_type": "code",
      "metadata": {
        "id": "LeM-sYqzCM5q",
        "colab_type": "code",
        "colab": {}
      },
      "source": [
        "from __future__ import division , print_function,absolute_import "
      ],
      "execution_count": 0,
      "outputs": []
    },
    {
      "cell_type": "code",
      "metadata": {
        "id": "ieiYBkLLs864",
        "colab_type": "code",
        "colab": {}
      },
      "source": [
        "import tflearn \n",
        "from tflearn.data_utils import pad_sequences,to_categorical\n",
        "import numpy as np\n",
        "X = np.array([3.3,4.4,5.5,6.71,6.93,4.168,9.779,6.182,7.59,2.167,7.042,10.791,5.313,7.997,5.654,9.27,3.1])\n",
        "Y = np.array([1.7,2.76,2.09,3.19,1.694,1.573,3.366,2.596,2.53,1.221,2.827,3.465,1.65,2.904,2.42,2.94,1.3])\n",
        "\n",
        "input_=tflearn.input_data(shape=[None])\n",
        "linear=tflearn.single_unit(input_)\n",
        "regression=tflearn.regression(linear,optimizer='sgd',learning_rate=0.01,metric='R2',loss='mean_square')\n",
        "m=tflearn.DNN(regression)\n",
        "m.fit(X, Y, n_epoch=1000, show_metric=True, snapshot_epoch=False)\n",
        "print('\\n regression')\n",
        "print(\"Y=\"+str(m.get_weights(linear.w))+\n",
        "      \"X=\"+str(m.get_weighs(linear.b)))\n",
        "print(m.predict([3.2,2.3,3.4]))\n"
      ],
      "execution_count": 0,
      "outputs": []
    }
  ]
}